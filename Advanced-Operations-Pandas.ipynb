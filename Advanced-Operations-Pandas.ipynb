{
 "cells": [
  {
   "cell_type": "code",
   "execution_count": 1,
   "id": "0e5bf0d7",
   "metadata": {
    "tags": []
   },
   "outputs": [],
   "source": [
    "import otter\n",
    "grader = otter.Notebook()"
   ]
  },
  {
   "cell_type": "markdown",
   "id": "d16e0c48",
   "metadata": {},
   "source": [
    "# Homework 12: Advanced operations in pandas"
   ]
  },
  {
   "cell_type": "markdown",
   "id": "424994a7",
   "metadata": {},
   "source": [
    "## Due Date: Monday, May 1st, 11:59PM"
   ]
  },
  {
   "cell_type": "markdown",
   "id": "7763862e",
   "metadata": {},
   "source": [
    "## Collaboration Policy\n",
    "\n",
    "Data science is a collaborative activity. While you may talk with others about the homework, we ask that you **write your solutions individually**. If you do discuss the assignments with other students please include their names below."
   ]
  },
  {
   "cell_type": "markdown",
   "id": "e7a82e05",
   "metadata": {},
   "source": [
    "**Collaborators:** *list collaborators here*"
   ]
  },
  {
   "cell_type": "markdown",
   "id": "35ef5021",
   "metadata": {},
   "source": [
    "## Grading\n",
    "\n",
    "Grading is broken down into autograded answers and free response. \n",
    "\n",
    "For autograded answers, the results of your code are compared to provided and/or hidden tests. **For autograded probability questions, the provided tests will only check that your answer is within a reasonable range.**\n",
    "\n",
    "For free response, readers will evaluate how well you answered the question and/or fulfilled the requirements of the question.\n",
    "\n",
    "For plots, make sure to be as descriptive as possible: include titles, axes labels, and units wherever applicable."
   ]
  },
  {
   "cell_type": "code",
   "execution_count": 2,
   "id": "ad9ec325",
   "metadata": {
    "tags": []
   },
   "outputs": [
    {
     "data": {
      "text/plain": [
       "'imports completed'"
      ]
     },
     "execution_count": 2,
     "metadata": {},
     "output_type": "execute_result"
    }
   ],
   "source": [
    "import numpy as np\n",
    "import pandas as pd\n",
    "import matplotlib\n",
    "import matplotlib.pyplot as plt\n",
    "import seaborn as sns\n",
    "\n",
    "'imports completed'"
   ]
  },
  {
   "cell_type": "markdown",
   "id": "3082e9f9",
   "metadata": {},
   "source": [
    "## Introduction\n",
    "\n",
    "The purpose of this module is to expand your 'pandas' skillset by performing various new and old operations on 'pandas' dataframes. A lot of these operations will be things you've done before in the `datascience` package, so you should reference the included notebook to translate between the two if need be.\n",
    "\n",
    "You are expected to answer all relevant questions programatically *i.e.* use indexing and functions/methods to arrive to your answers. Your answers don't need to be in one single line, you may use as many intermediate steps as you need. "
   ]
  },
  {
   "cell_type": "markdown",
   "id": "c5ceb4e2",
   "metadata": {},
   "source": [
    "### Question 1"
   ]
  },
  {
   "cell_type": "markdown",
   "id": "c680dd9c",
   "metadata": {},
   "source": [
    "Reading in data from file is made easy in the `pandas` package. We have included two datasets in your assignment folder to read in, 'broadway.csv' and 'diseases.txt'. "
   ]
  },
  {
   "cell_type": "markdown",
   "id": "eeced5d4",
   "metadata": {},
   "source": [
    "#### Question 1.1\n",
    "\n",
    "Read in broadway using `pd.read_csv`."
   ]
  },
  {
   "cell_type": "code",
   "execution_count": 3,
   "id": "9cee286c",
   "metadata": {
    "tags": []
   },
   "outputs": [
    {
     "data": {
      "text/html": [
       "<div>\n",
       "<style scoped>\n",
       "    .dataframe tbody tr th:only-of-type {\n",
       "        vertical-align: middle;\n",
       "    }\n",
       "\n",
       "    .dataframe tbody tr th {\n",
       "        vertical-align: top;\n",
       "    }\n",
       "\n",
       "    .dataframe thead th {\n",
       "        text-align: right;\n",
       "    }\n",
       "</style>\n",
       "<table border=\"1\" class=\"dataframe\">\n",
       "  <thead>\n",
       "    <tr style=\"text-align: right;\">\n",
       "      <th></th>\n",
       "      <th>Day</th>\n",
       "      <th>Month</th>\n",
       "      <th>Year</th>\n",
       "      <th>Show.Name</th>\n",
       "      <th>Theatre</th>\n",
       "      <th>Show.Type</th>\n",
       "      <th>Attendance</th>\n",
       "      <th>Capacity</th>\n",
       "      <th>Gross</th>\n",
       "      <th>Gross Potential</th>\n",
       "      <th>Performances</th>\n",
       "    </tr>\n",
       "  </thead>\n",
       "  <tbody>\n",
       "    <tr>\n",
       "      <th>0</th>\n",
       "      <td>26</td>\n",
       "      <td>8</td>\n",
       "      <td>1990</td>\n",
       "      <td>Tru</td>\n",
       "      <td>Booth</td>\n",
       "      <td>Play</td>\n",
       "      <td>5500</td>\n",
       "      <td>88</td>\n",
       "      <td>134456</td>\n",
       "      <td>0</td>\n",
       "      <td>8</td>\n",
       "    </tr>\n",
       "    <tr>\n",
       "      <th>1</th>\n",
       "      <td>24</td>\n",
       "      <td>3</td>\n",
       "      <td>1991</td>\n",
       "      <td>Miss Saigon</td>\n",
       "      <td>Broadway</td>\n",
       "      <td>Musical</td>\n",
       "      <td>1737</td>\n",
       "      <td>100</td>\n",
       "      <td>100647</td>\n",
       "      <td>0</td>\n",
       "      <td>0</td>\n",
       "    </tr>\n",
       "    <tr>\n",
       "      <th>2</th>\n",
       "      <td>31</td>\n",
       "      <td>3</td>\n",
       "      <td>1991</td>\n",
       "      <td>Miss Saigon</td>\n",
       "      <td>Broadway</td>\n",
       "      <td>Musical</td>\n",
       "      <td>12160</td>\n",
       "      <td>100</td>\n",
       "      <td>634424</td>\n",
       "      <td>0</td>\n",
       "      <td>0</td>\n",
       "    </tr>\n",
       "    <tr>\n",
       "      <th>3</th>\n",
       "      <td>7</td>\n",
       "      <td>4</td>\n",
       "      <td>1991</td>\n",
       "      <td>Miss Saigon</td>\n",
       "      <td>Broadway</td>\n",
       "      <td>Musical</td>\n",
       "      <td>13921</td>\n",
       "      <td>100</td>\n",
       "      <td>713353</td>\n",
       "      <td>0</td>\n",
       "      <td>0</td>\n",
       "    </tr>\n",
       "    <tr>\n",
       "      <th>4</th>\n",
       "      <td>14</td>\n",
       "      <td>4</td>\n",
       "      <td>1991</td>\n",
       "      <td>Miss Saigon</td>\n",
       "      <td>Broadway</td>\n",
       "      <td>Musical</td>\n",
       "      <td>10973</td>\n",
       "      <td>90</td>\n",
       "      <td>573981</td>\n",
       "      <td>0</td>\n",
       "      <td>4</td>\n",
       "    </tr>\n",
       "    <tr>\n",
       "      <th>5</th>\n",
       "      <td>21</td>\n",
       "      <td>4</td>\n",
       "      <td>1991</td>\n",
       "      <td>Miss Saigon</td>\n",
       "      <td>Broadway</td>\n",
       "      <td>Musical</td>\n",
       "      <td>14076</td>\n",
       "      <td>101</td>\n",
       "      <td>706793</td>\n",
       "      <td>0</td>\n",
       "      <td>8</td>\n",
       "    </tr>\n",
       "  </tbody>\n",
       "</table>\n",
       "</div>"
      ],
      "text/plain": [
       "   Day  Month  Year    Show.Name   Theatre Show.Type  Attendance  Capacity  \\\n",
       "0   26      8  1990          Tru     Booth      Play        5500        88   \n",
       "1   24      3  1991  Miss Saigon  Broadway   Musical        1737       100   \n",
       "2   31      3  1991  Miss Saigon  Broadway   Musical       12160       100   \n",
       "3    7      4  1991  Miss Saigon  Broadway   Musical       13921       100   \n",
       "4   14      4  1991  Miss Saigon  Broadway   Musical       10973        90   \n",
       "5   21      4  1991  Miss Saigon  Broadway   Musical       14076       101   \n",
       "\n",
       "    Gross  Gross Potential  Performances  \n",
       "0  134456                0             8  \n",
       "1  100647                0             0  \n",
       "2  634424                0             0  \n",
       "3  713353                0             0  \n",
       "4  573981                0             4  \n",
       "5  706793                0             8  "
      ]
     },
     "execution_count": 3,
     "metadata": {},
     "output_type": "execute_result"
    }
   ],
   "source": [
    "broadway = pd.read_csv(\"broadway.csv\")\n",
    "broadway.head(6)"
   ]
  },
  {
   "cell_type": "code",
   "execution_count": 4,
   "id": "62b0d3e2",
   "metadata": {
    "tags": []
   },
   "outputs": [
    {
     "data": {
      "text/html": [
       "<p><strong><pre style='display: inline;'>q1_1</pre></strong> passed! 💯</p>"
      ],
      "text/plain": [
       "q1_1 results: All test cases passed!"
      ]
     },
     "execution_count": 4,
     "metadata": {},
     "output_type": "execute_result"
    }
   ],
   "source": [
    "grader.check(\"q1_1\")"
   ]
  },
  {
   "cell_type": "markdown",
   "id": "daf51984",
   "metadata": {},
   "source": [
    "#### Question 1.2\n",
    "\n",
    "Now read in the diseases dataset. Diseases is not a `.csv` but a `.txt` file *i.e.* a plain-text file. Because it's not `.csv`, we can't assume that the values are comma separated. Fortunately `pd.read_csv` can be used on any file. It may not parse the data correctly, but it may reveal the values that do separate entries. \n",
    "\n",
    "Identify the separator used in `diseases.txt` and use it to successfully read in your data with `pd.read_csv`."
   ]
  },
  {
   "cell_type": "code",
   "execution_count": 6,
   "id": "2510b294",
   "metadata": {
    "tags": []
   },
   "outputs": [
    {
     "data": {
      "text/html": [
       "<div>\n",
       "<style scoped>\n",
       "    .dataframe tbody tr th:only-of-type {\n",
       "        vertical-align: middle;\n",
       "    }\n",
       "\n",
       "    .dataframe tbody tr th {\n",
       "        vertical-align: top;\n",
       "    }\n",
       "\n",
       "    .dataframe thead th {\n",
       "        text-align: right;\n",
       "    }\n",
       "</style>\n",
       "<table border=\"1\" class=\"dataframe\">\n",
       "  <thead>\n",
       "    <tr style=\"text-align: right;\">\n",
       "      <th></th>\n",
       "      <th>disease</th>\n",
       "      <th>loc</th>\n",
       "      <th>number</th>\n",
       "      <th>population</th>\n",
       "      <th>year</th>\n",
       "    </tr>\n",
       "  </thead>\n",
       "  <tbody>\n",
       "    <tr>\n",
       "      <th>0</th>\n",
       "      <td>MEASLES</td>\n",
       "      <td>ALABAMA</td>\n",
       "      <td>8843</td>\n",
       "      <td>2640000</td>\n",
       "      <td>1928</td>\n",
       "    </tr>\n",
       "    <tr>\n",
       "      <th>1</th>\n",
       "      <td>MEASLES</td>\n",
       "      <td>ARIZONA</td>\n",
       "      <td>847</td>\n",
       "      <td>422000</td>\n",
       "      <td>1928</td>\n",
       "    </tr>\n",
       "    <tr>\n",
       "      <th>2</th>\n",
       "      <td>MEASLES</td>\n",
       "      <td>ARKANSAS</td>\n",
       "      <td>8899</td>\n",
       "      <td>1847000</td>\n",
       "      <td>1928</td>\n",
       "    </tr>\n",
       "    <tr>\n",
       "      <th>3</th>\n",
       "      <td>MEASLES</td>\n",
       "      <td>CALIFORNIA</td>\n",
       "      <td>3698</td>\n",
       "      <td>5344000</td>\n",
       "      <td>1928</td>\n",
       "    </tr>\n",
       "    <tr>\n",
       "      <th>4</th>\n",
       "      <td>MEASLES</td>\n",
       "      <td>COLORADO</td>\n",
       "      <td>2099</td>\n",
       "      <td>1014000</td>\n",
       "      <td>1928</td>\n",
       "    </tr>\n",
       "    <tr>\n",
       "      <th>5</th>\n",
       "      <td>MEASLES</td>\n",
       "      <td>CONNECTICUT</td>\n",
       "      <td>10014</td>\n",
       "      <td>1577000</td>\n",
       "      <td>1928</td>\n",
       "    </tr>\n",
       "  </tbody>\n",
       "</table>\n",
       "</div>"
      ],
      "text/plain": [
       "   disease          loc  number  population  year\n",
       "0  MEASLES      ALABAMA    8843     2640000  1928\n",
       "1  MEASLES      ARIZONA     847      422000  1928\n",
       "2  MEASLES     ARKANSAS    8899     1847000  1928\n",
       "3  MEASLES   CALIFORNIA    3698     5344000  1928\n",
       "4  MEASLES     COLORADO    2099     1014000  1928\n",
       "5  MEASLES  CONNECTICUT   10014     1577000  1928"
      ]
     },
     "execution_count": 6,
     "metadata": {},
     "output_type": "execute_result"
    }
   ],
   "source": [
    "separator = \"\t\"\n",
    "diseases = pd.read_csv(\"diseases.txt\", sep = separator)\n",
    "diseases.head(6)"
   ]
  },
  {
   "cell_type": "code",
   "execution_count": 7,
   "id": "a35b0249",
   "metadata": {
    "tags": []
   },
   "outputs": [
    {
     "data": {
      "text/html": [
       "<p><strong><pre style='display: inline;'>q1_2</pre></strong> passed! 🌟</p>"
      ],
      "text/plain": [
       "q1_2 results: All test cases passed!"
      ]
     },
     "execution_count": 7,
     "metadata": {},
     "output_type": "execute_result"
    }
   ],
   "source": [
    "grader.check(\"q1_2\")"
   ]
  },
  {
   "cell_type": "markdown",
   "id": "1bbf3718",
   "metadata": {},
   "source": [
    "#### Question 1.3"
   ]
  },
  {
   "cell_type": "markdown",
   "id": "21b17fda",
   "metadata": {},
   "source": [
    "Read in the the DataFrame called **nst-est2016-alldata.csv** from the course Github. The url path to the repository is https://github.com/oregon-data-science/DSCI101/raw/main/data/. You should do this with `pd.read_csv`."
   ]
  },
  {
   "cell_type": "code",
   "execution_count": 13,
   "id": "40313d18",
   "metadata": {
    "tags": []
   },
   "outputs": [],
   "source": [
    "pop_census = pd.read_csv(\"https://github.com/oregon-data-science/DSCI101/raw/main/data/nst-est2016-alldata.csv\")"
   ]
  },
  {
   "cell_type": "code",
   "execution_count": 14,
   "id": "0867554d",
   "metadata": {
    "tags": []
   },
   "outputs": [
    {
     "data": {
      "text/html": [
       "<p><strong><pre style='display: inline;'>q1_3</pre></strong> passed! 🍀</p>"
      ],
      "text/plain": [
       "q1_3 results: All test cases passed!"
      ]
     },
     "execution_count": 14,
     "metadata": {},
     "output_type": "execute_result"
    }
   ],
   "source": [
    "grader.check(\"q1_3\")"
   ]
  },
  {
   "cell_type": "markdown",
   "id": "5fe6ebd3",
   "metadata": {},
   "source": [
    "This DataFrame gives census-based population estimates for each state on both July 1, 2015 and July 1, 2016. The last four columns describe the components of the estimated change in population during this time interval. **For all questions below, assume that the word \"states\" refers to all 52 rows including Puerto Rico & the District of Columbia.**\n",
    "\n",
    "The data was taken from [here](http://www2.census.gov/programs-surveys/popest/datasets/2010-2016/national/totals/nst-est2016-alldata.csv).\n",
    "\n",
    "If you want to read more about the different column descriptions, click [here](http://www2.census.gov/programs-surveys/popest/datasets/2010-2015/national/totals/nst-est2015-alldata.pdf)!"
   ]
  },
  {
   "cell_type": "markdown",
   "id": "d469ae3c",
   "metadata": {},
   "source": [
    "The raw data is a bit messy - run the cell below to clean the DataFrame and make it easier to work with."
   ]
  },
  {
   "cell_type": "code",
   "execution_count": 15,
   "id": "240b2a48",
   "metadata": {
    "tags": []
   },
   "outputs": [
    {
     "data": {
      "text/html": [
       "<div>\n",
       "<style scoped>\n",
       "    .dataframe tbody tr th:only-of-type {\n",
       "        vertical-align: middle;\n",
       "    }\n",
       "\n",
       "    .dataframe tbody tr th {\n",
       "        vertical-align: top;\n",
       "    }\n",
       "\n",
       "    .dataframe thead th {\n",
       "        text-align: right;\n",
       "    }\n",
       "</style>\n",
       "<table border=\"1\" class=\"dataframe\">\n",
       "  <thead>\n",
       "    <tr style=\"text-align: right;\">\n",
       "      <th></th>\n",
       "      <th>REGION</th>\n",
       "      <th>NAME</th>\n",
       "      <th>2015</th>\n",
       "      <th>2016</th>\n",
       "      <th>BIRTHS</th>\n",
       "      <th>DEATHS</th>\n",
       "      <th>MIGRATION</th>\n",
       "      <th>OTHER</th>\n",
       "    </tr>\n",
       "  </thead>\n",
       "  <tbody>\n",
       "    <tr>\n",
       "      <th>5</th>\n",
       "      <td>3</td>\n",
       "      <td>Alabama</td>\n",
       "      <td>4853875</td>\n",
       "      <td>4863300</td>\n",
       "      <td>58556</td>\n",
       "      <td>52405</td>\n",
       "      <td>3874</td>\n",
       "      <td>-600</td>\n",
       "    </tr>\n",
       "    <tr>\n",
       "      <th>6</th>\n",
       "      <td>4</td>\n",
       "      <td>Alaska</td>\n",
       "      <td>737709</td>\n",
       "      <td>741894</td>\n",
       "      <td>11255</td>\n",
       "      <td>4511</td>\n",
       "      <td>-2557</td>\n",
       "      <td>-2</td>\n",
       "    </tr>\n",
       "    <tr>\n",
       "      <th>7</th>\n",
       "      <td>4</td>\n",
       "      <td>Arizona</td>\n",
       "      <td>6817565</td>\n",
       "      <td>6931071</td>\n",
       "      <td>87204</td>\n",
       "      <td>56564</td>\n",
       "      <td>76405</td>\n",
       "      <td>6461</td>\n",
       "    </tr>\n",
       "    <tr>\n",
       "      <th>8</th>\n",
       "      <td>3</td>\n",
       "      <td>Arkansas</td>\n",
       "      <td>2977853</td>\n",
       "      <td>2988248</td>\n",
       "      <td>37936</td>\n",
       "      <td>30581</td>\n",
       "      <td>3530</td>\n",
       "      <td>-490</td>\n",
       "    </tr>\n",
       "    <tr>\n",
       "      <th>9</th>\n",
       "      <td>4</td>\n",
       "      <td>California</td>\n",
       "      <td>38993940</td>\n",
       "      <td>39250017</td>\n",
       "      <td>502848</td>\n",
       "      <td>273850</td>\n",
       "      <td>33530</td>\n",
       "      <td>-6451</td>\n",
       "    </tr>\n",
       "    <tr>\n",
       "      <th>10</th>\n",
       "      <td>4</td>\n",
       "      <td>Colorado</td>\n",
       "      <td>5448819</td>\n",
       "      <td>5540545</td>\n",
       "      <td>67453</td>\n",
       "      <td>37121</td>\n",
       "      <td>60773</td>\n",
       "      <td>621</td>\n",
       "    </tr>\n",
       "    <tr>\n",
       "      <th>11</th>\n",
       "      <td>1</td>\n",
       "      <td>Connecticut</td>\n",
       "      <td>3584730</td>\n",
       "      <td>3576452</td>\n",
       "      <td>35848</td>\n",
       "      <td>30638</td>\n",
       "      <td>-12822</td>\n",
       "      <td>-666</td>\n",
       "    </tr>\n",
       "    <tr>\n",
       "      <th>12</th>\n",
       "      <td>3</td>\n",
       "      <td>Delaware</td>\n",
       "      <td>944076</td>\n",
       "      <td>952065</td>\n",
       "      <td>10922</td>\n",
       "      <td>8945</td>\n",
       "      <td>5583</td>\n",
       "      <td>429</td>\n",
       "    </tr>\n",
       "    <tr>\n",
       "      <th>13</th>\n",
       "      <td>3</td>\n",
       "      <td>District of Columbia</td>\n",
       "      <td>670377</td>\n",
       "      <td>681170</td>\n",
       "      <td>9779</td>\n",
       "      <td>5455</td>\n",
       "      <td>6392</td>\n",
       "      <td>77</td>\n",
       "    </tr>\n",
       "    <tr>\n",
       "      <th>14</th>\n",
       "      <td>3</td>\n",
       "      <td>Florida</td>\n",
       "      <td>20244914</td>\n",
       "      <td>20612439</td>\n",
       "      <td>222793</td>\n",
       "      <td>201485</td>\n",
       "      <td>325986</td>\n",
       "      <td>20231</td>\n",
       "    </tr>\n",
       "    <tr>\n",
       "      <th>15</th>\n",
       "      <td>3</td>\n",
       "      <td>Georgia</td>\n",
       "      <td>10199398</td>\n",
       "      <td>10310371</td>\n",
       "      <td>130862</td>\n",
       "      <td>81525</td>\n",
       "      <td>60612</td>\n",
       "      <td>1024</td>\n",
       "    </tr>\n",
       "    <tr>\n",
       "      <th>16</th>\n",
       "      <td>4</td>\n",
       "      <td>Hawaii</td>\n",
       "      <td>1425157</td>\n",
       "      <td>1428557</td>\n",
       "      <td>18507</td>\n",
       "      <td>12237</td>\n",
       "      <td>-2583</td>\n",
       "      <td>-287</td>\n",
       "    </tr>\n",
       "  </tbody>\n",
       "</table>\n",
       "</div>"
      ],
      "text/plain": [
       "    REGION                  NAME      2015      2016  BIRTHS  DEATHS  \\\n",
       "5        3               Alabama   4853875   4863300   58556   52405   \n",
       "6        4                Alaska    737709    741894   11255    4511   \n",
       "7        4               Arizona   6817565   6931071   87204   56564   \n",
       "8        3              Arkansas   2977853   2988248   37936   30581   \n",
       "9        4            California  38993940  39250017  502848  273850   \n",
       "10       4              Colorado   5448819   5540545   67453   37121   \n",
       "11       1           Connecticut   3584730   3576452   35848   30638   \n",
       "12       3              Delaware    944076    952065   10922    8945   \n",
       "13       3  District of Columbia    670377    681170    9779    5455   \n",
       "14       3               Florida  20244914  20612439  222793  201485   \n",
       "15       3               Georgia  10199398  10310371  130862   81525   \n",
       "16       4                Hawaii   1425157   1428557   18507   12237   \n",
       "\n",
       "    MIGRATION  OTHER  \n",
       "5        3874   -600  \n",
       "6       -2557     -2  \n",
       "7       76405   6461  \n",
       "8        3530   -490  \n",
       "9       33530  -6451  \n",
       "10      60773    621  \n",
       "11     -12822   -666  \n",
       "12       5583    429  \n",
       "13       6392     77  \n",
       "14     325986  20231  \n",
       "15      60612   1024  \n",
       "16      -2583   -287  "
      ]
     },
     "execution_count": 15,
     "metadata": {},
     "output_type": "execute_result"
    }
   ],
   "source": [
    "# Don't change this cell; just run it.\n",
    "pop_sum_level = pop_census['SUMLEV'] == 40\n",
    "pop = pop_census[pop_sum_level]\n",
    "\n",
    "# grab a numbered list of columns to use\n",
    "columns_to_use = pop.columns[[1, 4, 12, 13, 27, 34, 62, 69]]\n",
    "pop = pop[columns_to_use] \n",
    "\n",
    "pop = pop.rename(columns={'POPESTIMATE2015': '2015',\n",
    "                          'POPESTIMATE2016': '2016',\n",
    "                          'BIRTHS2016': 'BIRTHS',\n",
    "                          'DEATHS2016': 'DEATHS',\n",
    "                          'NETMIG2016': 'MIGRATION',\n",
    "                          'RESIDUAL2016': 'OTHER'\n",
    "                        })\n",
    "#pop['REGION'].unique()\n",
    "pop['REGION'] = pop['REGION'].replace({'1':1, '2':2, '3':3, '4':4, 'X':0})\n",
    "pop.head(12)"
   ]
  },
  {
   "cell_type": "markdown",
   "id": "7c56e2d9",
   "metadata": {},
   "source": [
    "### Question 2 - Census data"
   ]
  },
  {
   "cell_type": "markdown",
   "id": "b165aeaa",
   "metadata": {},
   "source": [
    "**Question 2.1** Assign `us_birth_rate` to the total US annual birth rate during this time interval. The annual birth rate for a year-long period is the total number of births in that period as a proportion of the population size at the start of the time period.\n",
    "\n",
    "**Hint:** Which year corresponds to the start of the time period?"
   ]
  },
  {
   "cell_type": "code",
   "execution_count": 42,
   "id": "24786abe",
   "metadata": {
    "tags": []
   },
   "outputs": [
    {
     "data": {
      "text/plain": [
       "64.10672726840716"
      ]
     },
     "execution_count": 42,
     "metadata": {},
     "output_type": "execute_result"
    }
   ],
   "source": [
    "us_birth_rate = float((pop.iloc[:, 4] / pop.iloc[:, 2]).sum() * 100)\n",
    "us_birth_rate"
   ]
  },
  {
   "cell_type": "code",
   "execution_count": 43,
   "id": "261e6202",
   "metadata": {
    "tags": []
   },
   "outputs": [
    {
     "data": {
      "text/html": [
       "<p><strong><pre style='display: inline;'>q2_1</pre></strong> passed! 🙌</p>"
      ],
      "text/plain": [
       "q2_1 results: All test cases passed!"
      ]
     },
     "execution_count": 43,
     "metadata": {},
     "output_type": "execute_result"
    }
   ],
   "source": [
    "grader.check(\"q2_1\")"
   ]
  },
  {
   "cell_type": "markdown",
   "id": "46bf33b4",
   "metadata": {},
   "source": [
    "**Question 2.2** Assign `movers` to the number of states for which the **absolute value** (`np.abs`) of the **annual rate of migration** was higher than 1%. The annual rate of migration for a year-long period is the net number of migrations (in and out) as a proportion of the population size at the start of the period. The `MIGRATION` column contains estimated annual net migration counts by state."
   ]
  },
  {
   "cell_type": "code",
   "execution_count": 57,
   "id": "59563c93",
   "metadata": {
    "tags": []
   },
   "outputs": [
    {
     "data": {
      "text/plain": [
       "9"
      ]
     },
     "execution_count": 57,
     "metadata": {},
     "output_type": "execute_result"
    }
   ],
   "source": [
    "\n",
    "movers = int(((pop.iloc[:, 6] / pop.iloc[:, 2] * 100).abs() > 1).sum())\n",
    "movers"
   ]
  },
  {
   "cell_type": "code",
   "execution_count": 58,
   "id": "828b02d8",
   "metadata": {
    "tags": []
   },
   "outputs": [
    {
     "data": {
      "text/html": [
       "<p><strong><pre style='display: inline;'>q2_2</pre></strong> passed! 🍀</p>"
      ],
      "text/plain": [
       "q2_2 results: All test cases passed!"
      ]
     },
     "execution_count": 58,
     "metadata": {},
     "output_type": "execute_result"
    }
   ],
   "source": [
    "grader.check(\"q2_2\")"
   ]
  },
  {
   "cell_type": "markdown",
   "id": "468fa0ae",
   "metadata": {},
   "source": [
    "**Question 2.3** Assign `west_births` to the total number of births that occurred in region 4 (the Western US). \n",
    "\n",
    "**Hint:** Make sure you double check the type of the values in the region column, and appropriately filter (i.e. the types must match!)."
   ]
  },
  {
   "cell_type": "code",
   "execution_count": 73,
   "id": "74bbdc08",
   "metadata": {
    "tags": []
   },
   "outputs": [
    {
     "data": {
      "text/plain": [
       "979657"
      ]
     },
     "execution_count": 73,
     "metadata": {},
     "output_type": "execute_result"
    }
   ],
   "source": [
    "west_births = int(pop.loc[pop['REGION'] == 4, ['REGION', 'BIRTHS']].iloc[:, 1].sum())\n",
    "west_births"
   ]
  },
  {
   "cell_type": "code",
   "execution_count": 74,
   "id": "b554448a",
   "metadata": {
    "tags": []
   },
   "outputs": [
    {
     "data": {
      "text/html": [
       "<p><strong><pre style='display: inline;'>q2_3</pre></strong> passed! 💯</p>"
      ],
      "text/plain": [
       "q2_3 results: All test cases passed!"
      ]
     },
     "execution_count": 74,
     "metadata": {},
     "output_type": "execute_result"
    }
   ],
   "source": [
    "grader.check(\"q2_3\")"
   ]
  },
  {
   "cell_type": "markdown",
   "id": "a03c07e5",
   "metadata": {},
   "source": [
    "**Question 4.** Assign `less_than_west_births` to the number of states that had a total population in 2016 that was smaller than the *total number of births in region 4 (the Western US)* during this time interval."
   ]
  },
  {
   "cell_type": "code",
   "execution_count": 80,
   "id": "efd3863c",
   "metadata": {
    "tags": []
   },
   "outputs": [
    {
     "data": {
      "text/plain": [
       "7"
      ]
     },
     "execution_count": 80,
     "metadata": {},
     "output_type": "execute_result"
    }
   ],
   "source": [
    "less_than_west_births = int(pop.loc[pop['2016'] < west_births, ['NAME']].count())\n",
    "less_than_west_births"
   ]
  },
  {
   "cell_type": "code",
   "execution_count": 81,
   "id": "66fa2d70",
   "metadata": {
    "tags": []
   },
   "outputs": [
    {
     "data": {
      "text/html": [
       "<p><strong><pre style='display: inline;'>q2_4</pre></strong> passed! ✨</p>"
      ],
      "text/plain": [
       "q2_4 results: All test cases passed!"
      ]
     },
     "execution_count": 81,
     "metadata": {},
     "output_type": "execute_result"
    }
   ],
   "source": [
    "grader.check(\"q2_4\")"
   ]
  },
  {
   "cell_type": "markdown",
   "id": "49502637",
   "metadata": {},
   "source": [
    "**Question 2.5** \n",
    "\n",
    "In the next question, you will be creating a visualization to understand the relationship between birth and death rates. The annual death rate for a year-long period is the total number of deaths in that period as a proportion of the population size at the start of the time period.\n",
    "\n",
    "What visualization is most appropriate to see if there is an association between birth and death rates during a given time interval?\n",
    "\n",
    "1. Line Graph\n",
    "<br>\n",
    "2. Scatter Plot\n",
    "<br>\n",
    "3. Bar Chart\n",
    "\n",
    "Assign `visualization` below to the number corresponding to the correct visualization."
   ]
  },
  {
   "cell_type": "code",
   "execution_count": 88,
   "id": "e2bd6d88",
   "metadata": {
    "tags": []
   },
   "outputs": [],
   "source": [
    "visualization = 2"
   ]
  },
  {
   "cell_type": "code",
   "execution_count": 89,
   "id": "1a297556",
   "metadata": {
    "tags": []
   },
   "outputs": [
    {
     "data": {
      "text/html": [
       "<p><strong><pre style='display: inline;'>q2_5</pre></strong> passed! 🌈</p>"
      ],
      "text/plain": [
       "q2_5 results: All test cases passed!"
      ]
     },
     "execution_count": 89,
     "metadata": {},
     "output_type": "execute_result"
    }
   ],
   "source": [
    "grader.check(\"q2_5\")"
   ]
  },
  {
   "cell_type": "markdown",
   "id": "74865a53",
   "metadata": {},
   "source": [
    "**Question 2.6** In the code cell below, create a visualization that will help us determine if there is an association between birth rate and death rate during this time interval. It may be helpful to create an intermediate DataFrame here."
   ]
  },
  {
   "cell_type": "code",
   "execution_count": 115,
   "id": "bb7898df",
   "metadata": {
    "tags": []
   },
   "outputs": [
    {
     "data": {
      "text/plain": [
       "<Axes: xlabel='Birth Rate', ylabel='Death Rate'>"
      ]
     },
     "execution_count": 115,
     "metadata": {},
     "output_type": "execute_result"
    },
    {
     "data": {
      "image/png": "[encoded data removed]",
      "text/plain": [
       "<Figure size 640x480 with 1 Axes>"
      ]
     },
     "metadata": {},
     "output_type": "display_data"
    }
   ],
   "source": [
    "# Generate your chart in this cell\n",
    "birth_rate_list = pop.iloc[:, 4] / pop.iloc[:, 2]\n",
    "death_rate_list = pop.iloc[:, 5] / pop.iloc[:, 2]\n",
    "rates = pd.concat([birth_rate_list, death_rate_list], axis=1)\n",
    "rates.columns = ['Birth Rate', 'Death Rate']\n",
    "rates.plot.scatter(x = 'Birth Rate', y = 'Death Rate')"
   ]
  },
  {
   "cell_type": "markdown",
   "id": "12ba0009",
   "metadata": {},
   "source": [
    "### Question 3 - The diseases dataset"
   ]
  },
  {
   "cell_type": "markdown",
   "id": "2ce4a0f5",
   "metadata": {},
   "source": [
    "The U.S., as in many places, was once afflicted by many diseases (many of them viruses) that are no longer prominent today due to the advent of vaccines. Some of them such as Polio have been effectively eradicated while others like Measles affect so few individuals that they are largely irrelevant in the public health landscape. Notably, even though many of these diseases persist in the population (*e.g.* measles, mumps and rubella), they are sufficiently diluted by uninfected and/or vaccinated individuals to undermine any potential for an outbreak."
   ]
  },
  {
   "cell_type": "markdown",
   "id": "af934c63",
   "metadata": {},
   "source": [
    "#### Question 3.1"
   ]
  },
  {
   "cell_type": "markdown",
   "id": "c342ca9d",
   "metadata": {},
   "source": [
    "How many different diseases are represented in this dataset?"
   ]
  },
  {
   "cell_type": "code",
   "execution_count": 124,
   "id": "03cf75aa",
   "metadata": {
    "tags": []
   },
   "outputs": [
    {
     "data": {
      "text/plain": [
       "7"
      ]
     },
     "execution_count": 124,
     "metadata": {},
     "output_type": "execute_result"
    }
   ],
   "source": [
    "num_diseases = diseases['disease'].nunique()\n",
    "num_diseases"
   ]
  },
  {
   "cell_type": "code",
   "execution_count": 125,
   "id": "ae8c72a2",
   "metadata": {
    "scrolled": true,
    "tags": []
   },
   "outputs": [
    {
     "data": {
      "text/html": [
       "<p><strong><pre style='display: inline;'>q3_1</pre></strong> passed! 🍀</p>"
      ],
      "text/plain": [
       "q3_1 results: All test cases passed!"
      ]
     },
     "execution_count": 125,
     "metadata": {},
     "output_type": "execute_result"
    }
   ],
   "source": [
    "grader.check(\"q3_1\")"
   ]
  },
  {
   "cell_type": "markdown",
   "id": "81dd6d75",
   "metadata": {},
   "source": [
    "#### Question 3.2"
   ]
  },
  {
   "cell_type": "markdown",
   "id": "bcdd0996",
   "metadata": {},
   "source": [
    "We have disease prevalence in terms of total individuals infected in a year in a state. The absolute magnitude of infected individuals can be helpful, but it'll be easier to directly compare between diseases and states if we weight these values by total population. Create a new column in diseases called \"incidence_per\" representing the disease incidence (\"number\") as a percent of the state's population. \n",
    "\n",
    "*Hint*: If the variable is represented as a percent, then it should be between 0 and 100. "
   ]
  },
  {
   "cell_type": "code",
   "execution_count": 130,
   "id": "6f31e1d9",
   "metadata": {
    "tags": []
   },
   "outputs": [],
   "source": [
    "diseases[\"incidence_per\"] = diseases[\"number\"] / diseases[\"population\"] * 100"
   ]
  },
  {
   "cell_type": "code",
   "execution_count": 131,
   "id": "202c9698",
   "metadata": {
    "tags": []
   },
   "outputs": [
    {
     "data": {
      "text/html": [
       "<p><strong><pre style='display: inline;'>q3_2</pre></strong> passed! 🙌</p>"
      ],
      "text/plain": [
       "q3_2 results: All test cases passed!"
      ]
     },
     "execution_count": 131,
     "metadata": {},
     "output_type": "execute_result"
    }
   ],
   "source": [
    "grader.check(\"q3_2\")"
   ]
  },
  {
   "cell_type": "markdown",
   "id": "d2b0b1f4",
   "metadata": {},
   "source": [
    "#### Question 3.3"
   ]
  },
  {
   "cell_type": "markdown",
   "id": "7a16609b",
   "metadata": {},
   "source": [
    "Using this new column you created, identify the disease that afflicted the greatest percentage of New York's population in 1928. Provide your answer as a string. "
   ]
  },
  {
   "cell_type": "code",
   "execution_count": 139,
   "id": "29676db3",
   "metadata": {
    "tags": []
   },
   "outputs": [
    {
     "data": {
      "text/plain": [
       "'2037    MEASLES\\nName: disease, dtype: object'"
      ]
     },
     "execution_count": 139,
     "metadata": {},
     "output_type": "execute_result"
    }
   ],
   "source": [
    "filtered = diseases.loc[diseases['loc'] == 'NEW YORK']\n",
    "worst_ny_disease_1928 = str(filtered.loc[filtered['incidence_per'] == np.max(filtered['incidence_per'])].iloc[:, 0])\n",
    "worst_ny_disease_1928"
   ]
  },
  {
   "cell_type": "code",
   "execution_count": 140,
   "id": "b2551027",
   "metadata": {},
   "outputs": [
    {
     "data": {
      "text/html": [
       "<p><strong><pre style='display: inline;'>q3_3</pre></strong> passed! 🌈</p>"
      ],
      "text/plain": [
       "q3_3 results: All test cases passed!"
      ]
     },
     "execution_count": 140,
     "metadata": {},
     "output_type": "execute_result"
    }
   ],
   "source": [
    "grader.check(\"q3_3\")"
   ]
  },
  {
   "cell_type": "markdown",
   "id": "e309ab90",
   "metadata": {},
   "source": [
    "#### Question 3.4\n",
    "\n",
    "Between the years 1928 and 1938 inclusive, which U.S. state had the highest average incidence of polio as a percentage of its total population?"
   ]
  },
  {
   "cell_type": "code",
   "execution_count": 144,
   "id": "57822351",
   "metadata": {
    "tags": []
   },
   "outputs": [
    {
     "data": {
      "text/plain": [
       "'4477    ALASKA\\nName: loc, dtype: object'"
      ]
     },
     "execution_count": 144,
     "metadata": {},
     "output_type": "execute_result"
    }
   ],
   "source": [
    "filtered_2 = diseases.loc[diseases['disease'] == 'POLIO']\n",
    "worst_polio_state = str(filtered_2.loc[filtered['incidence_per'] == np.max(filtered_2['incidence_per'])].iloc[:, 1])\n",
    "worst_polio_state"
   ]
  },
  {
   "cell_type": "code",
   "execution_count": 145,
   "id": "b8ff6fbe",
   "metadata": {
    "tags": []
   },
   "outputs": [
    {
     "data": {
      "text/html": [
       "<p><strong><pre style='display: inline;'>q3_4</pre></strong> passed! 🌈</p>"
      ],
      "text/plain": [
       "q3_4 results: All test cases passed!"
      ]
     },
     "execution_count": 145,
     "metadata": {},
     "output_type": "execute_result"
    }
   ],
   "source": [
    "grader.check(\"q3_4\")"
   ]
  },
  {
   "cell_type": "markdown",
   "id": "6ebd582f",
   "metadata": {},
   "source": [
    "#### Question 3.5\n",
    "\n",
    "Identify the **first** year in which Polio was effectively eradicated in the US (fewer than 100 total cases). "
   ]
  },
  {
   "cell_type": "code",
   "execution_count": 156,
   "id": "6cf542c2",
   "metadata": {},
   "outputs": [
    {
     "data": {
      "text/plain": [
       "1928"
      ]
     },
     "execution_count": 156,
     "metadata": {},
     "output_type": "execute_result"
    }
   ],
   "source": [
    "first_year_eradicated = filtered_2.loc[filtered['incidence_per'] < 100]\n",
    "first_year_eradicated = first_year_eradicated.iloc[:, 4].min()\n",
    "first_year_eradicated"
   ]
  },
  {
   "cell_type": "code",
   "execution_count": 157,
   "id": "c3d22122",
   "metadata": {
    "scrolled": true
   },
   "outputs": [
    {
     "data": {
      "text/html": [
       "<p><strong><pre style='display: inline;'>q3_5</pre></strong> passed! ✨</p>"
      ],
      "text/plain": [
       "q3_5 results: All test cases passed!"
      ]
     },
     "execution_count": 157,
     "metadata": {},
     "output_type": "execute_result"
    }
   ],
   "source": [
    "grader.check(\"q3_5\")"
   ]
  },
  {
   "cell_type": "markdown",
   "id": "844945f9",
   "metadata": {},
   "source": [
    "Measles is a highly infectious viral disease that, historically, was once one of the most prominent childhood illnesses globally.\n",
    "\n",
    "Prior to the development of a vaccine for measles, it was more or less a fact of life for children. The disease was a constant blight that perpetuated itself in large boom-bust cycles of disease outbreaks. However, the first measles vaccine was approved for distribution in 1963, which would have dramatic consequences for the future of measles' presence in the public-health landscape. \n",
    "\n",
    "The $R_0$ of a disease represents how many people we can expect to be infected by a single contagious individual under average conditions in a uniformly susceptible population (no vaccinations or aquired immunity). Measles has an $R_0$ = 18 - an incredibly high value that indicates it is among the most infectious diseases that affect humans. For reference, the $R_0$ for a typical year's flu is 1. "
   ]
  },
  {
   "cell_type": "markdown",
   "id": "9a595ca0",
   "metadata": {},
   "source": [
    "![R_0 for multiple human diseases](./r_0.jpg)"
   ]
  },
  {
   "cell_type": "code",
   "execution_count": 158,
   "id": "8051643b",
   "metadata": {
    "tags": []
   },
   "outputs": [
    {
     "data": {
      "image/png": "[encoded data removed]",
      "text/plain": [
       "<Figure size 640x480 with 1 Axes>"
      ]
     },
     "metadata": {},
     "output_type": "display_data"
    }
   ],
   "source": [
    "measles_sum = diseases[diseases[\"disease\"] == \"MEASLES\"].groupby([\"year\"]).sum(\"number\").reset_index()\n",
    "                   \n",
    "sns.lineplot(data = measles_sum, x = \"year\", y = \"number\")\n",
    "plt.ylabel(\"Number of Cases (US)\")\n",
    "plt.axvline(x = 1963, color = \"black\", linestyle = \"dashed\");"
   ]
  },
  {
   "cell_type": "markdown",
   "id": "217fbea2",
   "metadata": {},
   "source": [
    "Clearly the MMR vaccine was incredibly successful at reducing and eventually eliminating Measles outbreaks. "
   ]
  },
  {
   "cell_type": "markdown",
   "id": "07927817",
   "metadata": {},
   "source": [
    "### Question 4 - The broadway dataset"
   ]
  },
  {
   "cell_type": "markdown",
   "id": "98fb4610",
   "metadata": {},
   "source": [
    "The broadway dataset contains all plays put into production on Broadway between the years 1990 and 2016."
   ]
  },
  {
   "cell_type": "code",
   "execution_count": null,
   "id": "876423f6",
   "metadata": {},
   "outputs": [],
   "source": [
    "print(f\"Over this time period there were {len(broadway['Show.Name'].unique())} different shows put on Broadway.\")"
   ]
  },
  {
   "cell_type": "markdown",
   "id": "7fb1227d",
   "metadata": {},
   "source": [
    "That's a lot of shows! Presumably there were some hits and some duds. Let's separate the wheat from the chaff and identify those shows that performed the best. But how do we define best?"
   ]
  },
  {
   "cell_type": "markdown",
   "id": "d600c099",
   "metadata": {},
   "source": [
    "#### Question 4.1"
   ]
  },
  {
   "cell_type": "markdown",
   "id": "a5238b3e",
   "metadata": {},
   "source": [
    "Create a **Series** of plays in order of most to least total gross. "
   ]
  },
  {
   "cell_type": "code",
   "execution_count": 161,
   "id": "46181291",
   "metadata": {
    "tags": []
   },
   "outputs": [
    {
     "data": {
      "text/plain": [
       "Show.Name\n",
       "The Lion King                           1289388835\n",
       "Wicked                                  1039921344\n",
       "The Phantom Of The Opera                 790512187\n",
       "Mamma Mia!                               624391693\n",
       "Chicago                                  560575239\n",
       "                                           ...    \n",
       "Jackie Mason:  Politically Incorrect         57491\n",
       "The Play'S The Thing                         32682\n",
       "School For Scandal                           27661\n",
       "Buttons On Broadway                          27020\n",
       "A Mom'S Life                                 11623\n",
       "Name: Gross, Length: 820, dtype: int64"
      ]
     },
     "execution_count": 161,
     "metadata": {},
     "output_type": "execute_result"
    }
   ],
   "source": [
    "broadway_grosses = broadway.groupby('Show.Name')['Gross'].sum().sort_values(ascending=False)\n",
    "broadway_grosses"
   ]
  },
  {
   "cell_type": "code",
   "execution_count": 160,
   "id": "9bac653b",
   "metadata": {
    "scrolled": true,
    "tags": []
   },
   "outputs": [
    {
     "data": {
      "text/html": [
       "<p><strong><pre style='display: inline;'>q4_1</pre></strong> passed! ✨</p>"
      ],
      "text/plain": [
       "q4_1 results: All test cases passed!"
      ]
     },
     "execution_count": 160,
     "metadata": {},
     "output_type": "execute_result"
    }
   ],
   "source": [
    "grader.check(\"q4_1\")"
   ]
  },
  {
   "cell_type": "markdown",
   "id": "c62c2850",
   "metadata": {},
   "source": [
    "#### Question 4.2"
   ]
  },
  {
   "cell_type": "markdown",
   "id": "fedd21e2",
   "metadata": {},
   "source": [
    "Now create a **Series** of plays in order of most to least average amount grossed *per* seat filled (Gross / Attendance)"
   ]
  },
  {
   "cell_type": "code",
   "execution_count": 162,
   "id": "1d2e9221",
   "metadata": {
    "tags": []
   },
   "outputs": [
    {
     "data": {
      "text/plain": [
       "Show.Name\n",
       "The Book Of Mormon                175.132796\n",
       "Hamilton                          161.696734\n",
       "The Elephant Man 2014             159.797789\n",
       "Hugh Jackman, Back On Broadway    156.679746\n",
       "The Audience                      150.552727\n",
       "                                     ...    \n",
       "Tartuffe 96                        18.425552\n",
       "Street Corner Symphony             16.823219\n",
       "Buttons On Broadway                16.045131\n",
       "The Blonde In The Thunderbird      12.641516\n",
       "Danny Gans On Broadway             10.199734\n",
       "Length: 820, dtype: float64"
      ]
     },
     "execution_count": 162,
     "metadata": {},
     "output_type": "execute_result"
    }
   ],
   "source": [
    "broadway_gross_seat = broadway_gross_seat = broadway.groupby('Show.Name').apply(lambda x: (x['Gross'].sum() / x['Attendance'].sum())).sort_values(ascending=False)\n",
    "broadway_gross_seat"
   ]
  },
  {
   "cell_type": "code",
   "execution_count": null,
   "id": "fc307f0d",
   "metadata": {},
   "outputs": [],
   "source": [
    "grader.check(\"q4_2\")"
   ]
  },
  {
   "cell_type": "markdown",
   "id": "2a77b481",
   "metadata": {},
   "source": [
    "#### Question 4.3\n",
    "\n",
    "Create a new variable representing date as a single continuous variable. This should combine year, month and day into a new column. Assume no leap years and that that there are 30.44 days per month. Call this variable `date_continuous`\n",
    "\n",
    "*Hint*: Think about how you can convert months into days and days into the same units as years. "
   ]
  },
  {
   "cell_type": "code",
   "execution_count": 165,
   "id": "4cdb729b",
   "metadata": {
    "tags": []
   },
   "outputs": [
    {
     "data": {
      "text/html": [
       "<div>\n",
       "<style scoped>\n",
       "    .dataframe tbody tr th:only-of-type {\n",
       "        vertical-align: middle;\n",
       "    }\n",
       "\n",
       "    .dataframe tbody tr th {\n",
       "        vertical-align: top;\n",
       "    }\n",
       "\n",
       "    .dataframe thead th {\n",
       "        text-align: right;\n",
       "    }\n",
       "</style>\n",
       "<table border=\"1\" class=\"dataframe\">\n",
       "  <thead>\n",
       "    <tr style=\"text-align: right;\">\n",
       "      <th></th>\n",
       "      <th>Show.Name</th>\n",
       "      <th>date_continuous</th>\n",
       "    </tr>\n",
       "  </thead>\n",
       "  <tbody>\n",
       "    <tr>\n",
       "      <th>0</th>\n",
       "      <td>Tru</td>\n",
       "      <td>1990.520806</td>\n",
       "    </tr>\n",
       "    <tr>\n",
       "      <th>1</th>\n",
       "      <td>Miss Saigon</td>\n",
       "      <td>1991.038436</td>\n",
       "    </tr>\n",
       "    <tr>\n",
       "      <th>2</th>\n",
       "      <td>Miss Saigon</td>\n",
       "      <td>1991.268397</td>\n",
       "    </tr>\n",
       "    <tr>\n",
       "      <th>3</th>\n",
       "      <td>Miss Saigon</td>\n",
       "      <td>1990.563294</td>\n",
       "    </tr>\n",
       "    <tr>\n",
       "      <th>4</th>\n",
       "      <td>Miss Saigon</td>\n",
       "      <td>1990.793254</td>\n",
       "    </tr>\n",
       "    <tr>\n",
       "      <th>...</th>\n",
       "      <td>...</td>\n",
       "      <td>...</td>\n",
       "    </tr>\n",
       "    <tr>\n",
       "      <th>31291</th>\n",
       "      <td>The Humans</td>\n",
       "      <td>2016.126588</td>\n",
       "    </tr>\n",
       "    <tr>\n",
       "      <th>31292</th>\n",
       "      <td>The Lion King</td>\n",
       "      <td>2016.126588</td>\n",
       "    </tr>\n",
       "    <tr>\n",
       "      <th>31293</th>\n",
       "      <td>The Phantom Of The Opera</td>\n",
       "      <td>2016.126588</td>\n",
       "    </tr>\n",
       "    <tr>\n",
       "      <th>31294</th>\n",
       "      <td>Waitress</td>\n",
       "      <td>2016.126588</td>\n",
       "    </tr>\n",
       "    <tr>\n",
       "      <th>31295</th>\n",
       "      <td>Wicked</td>\n",
       "      <td>2016.126588</td>\n",
       "    </tr>\n",
       "  </tbody>\n",
       "</table>\n",
       "<p>31296 rows × 2 columns</p>\n",
       "</div>"
      ],
      "text/plain": [
       "                      Show.Name  date_continuous\n",
       "0                           Tru      1990.520806\n",
       "1                   Miss Saigon      1991.038436\n",
       "2                   Miss Saigon      1991.268397\n",
       "3                   Miss Saigon      1990.563294\n",
       "4                   Miss Saigon      1990.793254\n",
       "...                         ...              ...\n",
       "31291                The Humans      2016.126588\n",
       "31292             The Lion King      2016.126588\n",
       "31293  The Phantom Of The Opera      2016.126588\n",
       "31294                  Waitress      2016.126588\n",
       "31295                    Wicked      2016.126588\n",
       "\n",
       "[31296 rows x 2 columns]"
      ]
     },
     "execution_count": 165,
     "metadata": {},
     "output_type": "execute_result"
    }
   ],
   "source": [
    "broadway[\"date_continuous\"] = broadway['Year'] - 1 + broadway['Month'] / 12 + broadway['Day'] / 30.44\n",
    "broadway[[\"Show.Name\",\"date_continuous\"]]"
   ]
  },
  {
   "cell_type": "code",
   "execution_count": 166,
   "id": "6d1c31cf",
   "metadata": {
    "tags": []
   },
   "outputs": [
    {
     "data": {
      "text/html": [
       "<p><strong><pre style='display: inline;'>q4_3</pre></strong> passed! 🚀</p>"
      ],
      "text/plain": [
       "q4_3 results: All test cases passed!"
      ]
     },
     "execution_count": 166,
     "metadata": {},
     "output_type": "execute_result"
    }
   ],
   "source": [
    "grader.check(\"q4_3\")"
   ]
  },
  {
   "cell_type": "markdown",
   "id": "43b8a6cc",
   "metadata": {},
   "source": [
    "With this variable created, we can now identify the show that has had the longest tenure on Broadway. To do this, we'll define our own function called `span`, which will return the difference between the max and minimum of a series. Using this function, we can find the length of time each show spent on Broadway and identify the longest running plays."
   ]
  },
  {
   "cell_type": "code",
   "execution_count": null,
   "id": "92c1185f",
   "metadata": {},
   "outputs": [],
   "source": [
    "def span(series):\n",
    "    return max(series) - min(series)"
   ]
  },
  {
   "cell_type": "code",
   "execution_count": null,
   "id": "000876f4",
   "metadata": {},
   "outputs": [
    {
     "data": {
      "text/html": [
       "<div>\n",
       "<style scoped>\n",
       "    .dataframe tbody tr th:only-of-type {\n",
       "        vertical-align: middle;\n",
       "    }\n",
       "\n",
       "    .dataframe tbody tr th {\n",
       "        vertical-align: top;\n",
       "    }\n",
       "\n",
       "    .dataframe thead th {\n",
       "        text-align: right;\n",
       "    }\n",
       "</style>\n",
       "<table border=\"1\" class=\"dataframe\">\n",
       "  <thead>\n",
       "    <tr style=\"text-align: right;\">\n",
       "      <th></th>\n",
       "      <th>Show.Name</th>\n",
       "      <th>total_tenure_years</th>\n",
       "    </tr>\n",
       "  </thead>\n",
       "  <tbody>\n",
       "    <tr>\n",
       "      <th>708</th>\n",
       "      <td>The Phantom Of The Opera</td>\n",
       "      <td>21.036027</td>\n",
       "    </tr>\n",
       "    <tr>\n",
       "      <th>155</th>\n",
       "      <td>Chicago</td>\n",
       "      <td>20.586509</td>\n",
       "    </tr>\n",
       "    <tr>\n",
       "      <th>682</th>\n",
       "      <td>The Lion King</td>\n",
       "      <td>19.619360</td>\n",
       "    </tr>\n",
       "    <tr>\n",
       "      <th>415</th>\n",
       "      <td>Mamma Mia!</td>\n",
       "      <td>14.604139</td>\n",
       "    </tr>\n",
       "    <tr>\n",
       "      <th>105</th>\n",
       "      <td>Beauty And The Beast</td>\n",
       "      <td>14.104139</td>\n",
       "    </tr>\n",
       "  </tbody>\n",
       "</table>\n",
       "</div>"
      ],
      "text/plain": [
       "                    Show.Name  total_tenure_years\n",
       "708  The Phantom Of The Opera           21.036027\n",
       "155                   Chicago           20.586509\n",
       "682             The Lion King           19.619360\n",
       "415                Mamma Mia!           14.604139\n",
       "105      Beauty And The Beast           14.104139"
      ]
     },
     "execution_count": 168,
     "metadata": {},
     "output_type": "execute_result"
    }
   ],
   "source": [
    "broadway_length = (broadway[[\"Show.Name\", \"date_continuous\"]]\n",
    "                   .groupby(\"Show.Name\")\n",
    "                   .agg(span)\n",
    "                   .reset_index()\n",
    "                   .rename({\"date_continuous\":\"total_tenure_years\"}, axis = 1)\n",
    "                   .sort_values(\"total_tenure_years\", ascending = False)\n",
    "                  )\n",
    "\n",
    "broadway_length.head()"
   ]
  },
  {
   "cell_type": "markdown",
   "id": "23ed8b5d",
   "metadata": {},
   "source": [
    "#### Question 4.4"
   ]
  },
  {
   "cell_type": "markdown",
   "id": "f0acb22f",
   "metadata": {},
   "source": [
    "This is some handy information and we might find it useful to include the total tenure of a show in the original dataframe. Join the total tenure you just determined on the original broadway frame using the `merge` function, ensuring that the new column is called \"total_tenure_years\". Be sure that there is no information lost from the original dataframe in your new, joined dataframe. \n",
    "\n",
    "You should reference the help file for merge if you need guidance (`help(pd.merge)`). "
   ]
  },
  {
   "cell_type": "code",
   "execution_count": 173,
   "id": "47976b4a",
   "metadata": {
    "scrolled": true,
    "tags": []
   },
   "outputs": [
    {
     "data": {
      "text/html": [
       "<div>\n",
       "<style scoped>\n",
       "    .dataframe tbody tr th:only-of-type {\n",
       "        vertical-align: middle;\n",
       "    }\n",
       "\n",
       "    .dataframe tbody tr th {\n",
       "        vertical-align: top;\n",
       "    }\n",
       "\n",
       "    .dataframe thead th {\n",
       "        text-align: right;\n",
       "    }\n",
       "</style>\n",
       "<table border=\"1\" class=\"dataframe\">\n",
       "  <thead>\n",
       "    <tr style=\"text-align: right;\">\n",
       "      <th></th>\n",
       "      <th>Day</th>\n",
       "      <th>Month</th>\n",
       "      <th>Year</th>\n",
       "      <th>Show.Name</th>\n",
       "      <th>Theatre</th>\n",
       "      <th>Show.Type</th>\n",
       "      <th>Attendance</th>\n",
       "      <th>Capacity</th>\n",
       "      <th>Gross</th>\n",
       "      <th>Gross Potential</th>\n",
       "      <th>Performances</th>\n",
       "      <th>date_continuous</th>\n",
       "      <th>total_tenure_years</th>\n",
       "    </tr>\n",
       "  </thead>\n",
       "  <tbody>\n",
       "    <tr>\n",
       "      <th>0</th>\n",
       "      <td>26</td>\n",
       "      <td>8</td>\n",
       "      <td>1990</td>\n",
       "      <td>Tru</td>\n",
       "      <td>Booth</td>\n",
       "      <td>Play</td>\n",
       "      <td>5500</td>\n",
       "      <td>88</td>\n",
       "      <td>134456</td>\n",
       "      <td>0</td>\n",
       "      <td>8</td>\n",
       "      <td>1990.520806</td>\n",
       "      <td>0.000000</td>\n",
       "    </tr>\n",
       "    <tr>\n",
       "      <th>1</th>\n",
       "      <td>24</td>\n",
       "      <td>3</td>\n",
       "      <td>1991</td>\n",
       "      <td>Miss Saigon</td>\n",
       "      <td>Broadway</td>\n",
       "      <td>Musical</td>\n",
       "      <td>1737</td>\n",
       "      <td>100</td>\n",
       "      <td>100647</td>\n",
       "      <td>0</td>\n",
       "      <td>0</td>\n",
       "      <td>1991.038436</td>\n",
       "      <td>10.455103</td>\n",
       "    </tr>\n",
       "    <tr>\n",
       "      <th>2</th>\n",
       "      <td>31</td>\n",
       "      <td>3</td>\n",
       "      <td>1991</td>\n",
       "      <td>Miss Saigon</td>\n",
       "      <td>Broadway</td>\n",
       "      <td>Musical</td>\n",
       "      <td>12160</td>\n",
       "      <td>100</td>\n",
       "      <td>634424</td>\n",
       "      <td>0</td>\n",
       "      <td>0</td>\n",
       "      <td>1991.268397</td>\n",
       "      <td>10.455103</td>\n",
       "    </tr>\n",
       "    <tr>\n",
       "      <th>3</th>\n",
       "      <td>7</td>\n",
       "      <td>4</td>\n",
       "      <td>1991</td>\n",
       "      <td>Miss Saigon</td>\n",
       "      <td>Broadway</td>\n",
       "      <td>Musical</td>\n",
       "      <td>13921</td>\n",
       "      <td>100</td>\n",
       "      <td>713353</td>\n",
       "      <td>0</td>\n",
       "      <td>0</td>\n",
       "      <td>1990.563294</td>\n",
       "      <td>10.455103</td>\n",
       "    </tr>\n",
       "    <tr>\n",
       "      <th>4</th>\n",
       "      <td>14</td>\n",
       "      <td>4</td>\n",
       "      <td>1991</td>\n",
       "      <td>Miss Saigon</td>\n",
       "      <td>Broadway</td>\n",
       "      <td>Musical</td>\n",
       "      <td>10973</td>\n",
       "      <td>90</td>\n",
       "      <td>573981</td>\n",
       "      <td>0</td>\n",
       "      <td>4</td>\n",
       "      <td>1990.793254</td>\n",
       "      <td>10.455103</td>\n",
       "    </tr>\n",
       "  </tbody>\n",
       "</table>\n",
       "</div>"
      ],
      "text/plain": [
       "   Day  Month  Year    Show.Name   Theatre Show.Type  Attendance  Capacity  \\\n",
       "0   26      8  1990          Tru     Booth      Play        5500        88   \n",
       "1   24      3  1991  Miss Saigon  Broadway   Musical        1737       100   \n",
       "2   31      3  1991  Miss Saigon  Broadway   Musical       12160       100   \n",
       "3    7      4  1991  Miss Saigon  Broadway   Musical       13921       100   \n",
       "4   14      4  1991  Miss Saigon  Broadway   Musical       10973        90   \n",
       "\n",
       "    Gross  Gross Potential  Performances  date_continuous  total_tenure_years  \n",
       "0  134456                0             8      1990.520806            0.000000  \n",
       "1  100647                0             0      1991.038436           10.455103  \n",
       "2  634424                0             0      1991.268397           10.455103  \n",
       "3  713353                0             0      1990.563294           10.455103  \n",
       "4  573981                0             4      1990.793254           10.455103  "
      ]
     },
     "execution_count": 173,
     "metadata": {},
     "output_type": "execute_result"
    }
   ],
   "source": [
    "broadway_merged = pd.merge(broadway, broadway_length, on='Show.Name', how='left')\n",
    "broadway_merged.head()"
   ]
  },
  {
   "cell_type": "code",
   "execution_count": 174,
   "id": "6ced5465",
   "metadata": {
    "tags": []
   },
   "outputs": [
    {
     "data": {
      "text/html": [
       "<p><strong><pre style='display: inline;'>q4_4</pre></strong> passed! 🚀</p>"
      ],
      "text/plain": [
       "q4_4 results: All test cases passed!"
      ]
     },
     "execution_count": 174,
     "metadata": {},
     "output_type": "execute_result"
    }
   ],
   "source": [
    "grader.check(\"q4_4\")"
   ]
  },
  {
   "cell_type": "markdown",
   "id": "43834c64",
   "metadata": {},
   "source": [
    "## Submission\n",
    "\n",
    "Make sure you have run all cells in your notebook in order. Then execute the following two commands from the File menu:\n",
    "\n",
    "* Save and Checkpoint\n",
    "* Close and Halt\n",
    "\n",
    "Then upload your .ipynb file to Canvas assignment HW12"
   ]
  },
  {
   "cell_type": "markdown",
   "id": "46bdddd5",
   "metadata": {},
   "source": [
    "To double-check your work, the cell below will rerun all of the autograder tests."
   ]
  },
  {
   "cell_type": "code",
   "execution_count": 175,
   "id": "27a4f62c",
   "metadata": {
    "tags": []
   },
   "outputs": [
    {
     "data": {
      "text/plain": [
       "q1_1 results: All test cases passed!\n",
       "\n",
       "q1_2 results: All test cases passed!\n",
       "\n",
       "q1_3 results: All test cases passed!\n",
       "\n",
       "q2_1 results: All test cases passed!\n",
       "\n",
       "q2_2 results: All test cases passed!\n",
       "\n",
       "q2_3 results: All test cases passed!\n",
       "\n",
       "q2_4 results: All test cases passed!\n",
       "\n",
       "q2_5 results: All test cases passed!\n",
       "\n",
       "q3_1 results: All test cases passed!\n",
       "\n",
       "q3_2 results: All test cases passed!\n",
       "\n",
       "q3_3 results: All test cases passed!\n",
       "\n",
       "q3_4 results: All test cases passed!\n",
       "\n",
       "q3_5 results: All test cases passed!\n",
       "\n",
       "q4_1 results: All test cases passed!\n",
       "\n",
       "q4_2 results: All test cases passed!\n",
       "\n",
       "q4_3 results: All test cases passed!\n",
       "\n",
       "q4_4 results: All test cases passed!"
      ]
     },
     "execution_count": 175,
     "metadata": {},
     "output_type": "execute_result"
    }
   ],
   "source": [
    "grader.check_all()"
   ]
  },
  {
   "cell_type": "code",
   "execution_count": null,
   "id": "900df402-6f7f-4f13-979d-33168f2e0a29",
   "metadata": {},
   "outputs": [],
   "source": []
  }
 ],
 "metadata": {
  "kernelspec": {
   "display_name": "Python 3 (ipykernel)",
   "language": "python",
   "name": "python3"
  },
  "language_info": {
   "codemirror_mode": {
    "name": "ipython",
    "version": 3
   },
   "file_extension": ".py",
   "mimetype": "text/x-python",
   "name": "python",
   "nbconvert_exporter": "python",
   "pygments_lexer": "ipython3",
   "version": "3.10.9"
  }
 },
 "nbformat": 4,
 "nbformat_minor": 5
}
